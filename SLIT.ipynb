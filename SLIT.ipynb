{
 "cells": [
  {
   "cell_type": "code",
   "execution_count": 2,
   "metadata": {},
   "outputs": [],
   "source": [
    "import duckdb\n",
    "import polars as pl"
   ]
  },
  {
   "cell_type": "code",
   "execution_count": 16,
   "metadata": {},
   "outputs": [
    {
     "data": {
      "text/html": [
       "<div><style>\n",
       ".dataframe > thead > tr > th,\n",
       ".dataframe > tbody > tr > td {\n",
       "  text-align: right;\n",
       "  white-space: pre-wrap;\n",
       "}\n",
       "</style>\n",
       "<small>shape: (271_520, 9)</small><table border=\"1\" class=\"dataframe\"><thead><tr><th>Véhicule</th><th>cylindre</th><th>puissance</th><th>moteur</th><th>annee</th><th>boite</th><th>energie</th><th>prix</th><th>lien</th></tr><tr><td>str</td><td>str</td><td>i64</td><td>str</td><td>i32</td><td>str</td><td>str</td><td>i64</td><td>str</td></tr></thead><tbody><tr><td>&quot;DACIA DUSTER I…</td><td>&quot;1.5&quot;</td><td>115</td><td>&quot;DCI&quot;</td><td>2020</td><td>&quot;Manuelle&quot;</td><td>&quot;Diesel&quot;</td><td>15890</td><td>&quot;https://www.la…</td></tr><tr><td>&quot;RENAULT TWINGO…</td><td>&quot;1.0&quot;</td><td>70</td><td>&quot;SCE&quot;</td><td>2017</td><td>&quot;Manuelle&quot;</td><td>&quot;Essence&quot;</td><td>9260</td><td>&quot;https://www.la…</td></tr><tr><td>&quot;AUDI Q3 II S L…</td><td>&quot;1.5&quot;</td><td>150</td><td>&quot;35&quot;</td><td>2021</td><td>&quot;Automatique&quot;</td><td>&quot;Hybrides&quot;</td><td>37590</td><td>&quot;https://www.la…</td></tr><tr><td>&quot;VOLKSWAGEN T-R…</td><td>&quot;1.5&quot;</td><td>150</td><td>&quot;TSI&quot;</td><td>2024</td><td>&quot;Automatique&quot;</td><td>&quot;Essence&quot;</td><td>40710</td><td>&quot;https://www.la…</td></tr><tr><td>&quot;RENAULT CLIO I…</td><td>&quot;0.9&quot;</td><td>90</td><td>&quot;TCE&quot;</td><td>2018</td><td>&quot;Manuelle&quot;</td><td>&quot;Essence&quot;</td><td>15010</td><td>&quot;https://www.la…</td></tr><tr><td>&quot;NISSAN JUKE II…</td><td>&quot;1.0&quot;</td><td>117</td><td>&quot;DIG-T&quot;</td><td>2021</td><td>&quot;Automatique&quot;</td><td>&quot;Essence&quot;</td><td>22940</td><td>&quot;https://www.la…</td></tr><tr><td>&quot;VOLVO XC90 II …</td><td>&quot;2.0&quot;</td><td>390</td><td>&quot;T8&quot;</td><td>2020</td><td>&quot;Automatique&quot;</td><td>&quot;Hybrides&quot;</td><td>60450</td><td>&quot;https://www.la…</td></tr><tr><td>&quot;AUDI Q3 AUDI R…</td><td>&quot;2.5&quot;</td><td>400</td><td>&quot;TFSI&quot;</td><td>2021</td><td>&quot;Automatique&quot;</td><td>&quot;Essence&quot;</td><td>89600</td><td>&quot;https://www.la…</td></tr><tr><td>&quot;MERCEDES CL  D…</td><td>&quot;2.1&quot;</td><td>200</td><td>null</td><td>2017</td><td>&quot;Automatique&quot;</td><td>&quot;Diesel&quot;</td><td>19020</td><td>&quot;https://www.la…</td></tr><tr><td>&quot;KIA STONIC pha…</td><td>&quot;1.0&quot;</td><td>120</td><td>&quot;T-GDI&quot;</td><td>2022</td><td>&quot;Automatique&quot;</td><td>&quot;Essence&quot;</td><td>22430</td><td>&quot;https://www.la…</td></tr><tr><td>&quot;RENAULT CLIO V…</td><td>&quot;1.0&quot;</td><td>91</td><td>&quot;TCE&quot;</td><td>2023</td><td>&quot;Manuelle&quot;</td><td>&quot;Essence&quot;</td><td>19530</td><td>&quot;https://www.la…</td></tr><tr><td>&quot;RENAULT KADJAR…</td><td>&quot;1.6&quot;</td><td>130</td><td>&quot;DCI&quot;</td><td>2019</td><td>&quot;Manuelle&quot;</td><td>&quot;Diesel&quot;</td><td>20580</td><td>&quot;https://www.la…</td></tr><tr><td>&hellip;</td><td>&hellip;</td><td>&hellip;</td><td>&hellip;</td><td>&hellip;</td><td>&hellip;</td><td>&hellip;</td><td>&hellip;</td><td>&hellip;</td></tr><tr><td>&quot;CITROEN C3 AIR…</td><td>&quot;1.2&quot;</td><td>110</td><td>&quot;PURETECH&quot;</td><td>2020</td><td>&quot;Manuelle&quot;</td><td>&quot;Essence&quot;</td><td>16680</td><td>&quot;https://www.la…</td></tr><tr><td>&quot;RENAULT CLIO V…</td><td>&quot;1.6&quot;</td><td>140</td><td>&quot;E-TECH&quot;</td><td>2022</td><td>&quot;Automatique&quot;</td><td>&quot;Hybrides&quot;</td><td>20340</td><td>&quot;https://www.la…</td></tr><tr><td>&quot;BMW SERIE 3 F3…</td><td>&quot;2.0&quot;</td><td>252</td><td>&quot;330E&quot;</td><td>2017</td><td>&quot;Automatique&quot;</td><td>&quot;Hybrides&quot;</td><td>25010</td><td>&quot;https://www.la…</td></tr><tr><td>&quot;RENAULT GRAND …</td><td>&quot;1.6&quot;</td><td>130</td><td>&quot;DCI&quot;</td><td>2015</td><td>&quot;Manuelle&quot;</td><td>&quot;Diesel&quot;</td><td>9700</td><td>&quot;https://www.la…</td></tr><tr><td>&quot;RENAULT MEGANE…</td><td>&quot;1.5&quot;</td><td>110</td><td>&quot;DCI&quot;</td><td>2012</td><td>&quot;Manuelle&quot;</td><td>&quot;Diesel&quot;</td><td>5980</td><td>&quot;https://www.la…</td></tr><tr><td>&quot;RENAULT KOLEOS…</td><td>&quot;2.0&quot;</td><td>175</td><td>&quot;DCI&quot;</td><td>2019</td><td>&quot;Automatique&quot;</td><td>&quot;Diesel&quot;</td><td>29140</td><td>&quot;https://www.la…</td></tr><tr><td>&quot;PEUGEOT 3008 I…</td><td>&quot;1.5&quot;</td><td>130</td><td>&quot;BLUEHDI&quot;</td><td>2021</td><td>&quot;Automatique&quot;</td><td>&quot;Diesel&quot;</td><td>25050</td><td>&quot;https://www.la…</td></tr><tr><td>&quot;FIAT PANDA III…</td><td>&quot;0.9&quot;</td><td>85</td><td>&quot;TWINAIR&quot;</td><td>2015</td><td>&quot;Automatique&quot;</td><td>&quot;Essence&quot;</td><td>12660</td><td>&quot;https://www.la…</td></tr><tr><td>&quot;TOYOTA COROLLA…</td><td>&quot;1.8&quot;</td><td>122</td><td>&quot;HYBRIDE&quot;</td><td>2022</td><td>&quot;Automatique&quot;</td><td>&quot;Hybrides&quot;</td><td>29550</td><td>&quot;https://www.la…</td></tr><tr><td>&quot;CITROEN C3 III…</td><td>&quot;1.2&quot;</td><td>110</td><td>&quot;PURETECH&quot;</td><td>2023</td><td>&quot;Manuelle&quot;</td><td>&quot;Essence&quot;</td><td>20460</td><td>&quot;https://www.la…</td></tr><tr><td>&quot;PEUGEOT 3008 I…</td><td>&quot;1.5&quot;</td><td>130</td><td>&quot;BLUEHDI&quot;</td><td>2022</td><td>&quot;Automatique&quot;</td><td>&quot;Diesel&quot;</td><td>24820</td><td>&quot;https://www.la…</td></tr><tr><td>&quot;NISSAN QASHQAI…</td><td>&quot;1.5&quot;</td><td>110</td><td>&quot;DCI&quot;</td><td>2012</td><td>&quot;Manuelle&quot;</td><td>&quot;Diesel&quot;</td><td>9400</td><td>&quot;https://www.la…</td></tr></tbody></table></div>"
      ],
      "text/plain": [
       "shape: (271_520, 9)\n",
       "┌─────────────┬──────────┬───────────┬──────────┬───┬─────────────┬──────────┬───────┬─────────────┐\n",
       "│ Véhicule    ┆ cylindre ┆ puissance ┆ moteur   ┆ … ┆ boite       ┆ energie  ┆ prix  ┆ lien        │\n",
       "│ ---         ┆ ---      ┆ ---       ┆ ---      ┆   ┆ ---         ┆ ---      ┆ ---   ┆ ---         │\n",
       "│ str         ┆ str      ┆ i64       ┆ str      ┆   ┆ str         ┆ str      ┆ i64   ┆ str         │\n",
       "╞═════════════╪══════════╪═══════════╪══════════╪═══╪═════════════╪══════════╪═══════╪═════════════╡\n",
       "│ DACIA       ┆ 1.5      ┆ 115       ┆ DCI      ┆ … ┆ Manuelle    ┆ Diesel   ┆ 15890 ┆ https://www │\n",
       "│ DUSTER II   ┆          ┆           ┆          ┆   ┆             ┆          ┆       ┆ .lacentrale │\n",
       "│ PRESTIGE    ┆          ┆           ┆          ┆   ┆             ┆          ┆       ┆ .fr/auto-o… │\n",
       "│ RENAULT     ┆ 1.0      ┆ 70        ┆ SCE      ┆ … ┆ Manuelle    ┆ Essence  ┆ 9260  ┆ https://www │\n",
       "│ TWINGO III  ┆          ┆           ┆          ┆   ┆             ┆          ┆       ┆ .lacentrale │\n",
       "│ LIFE        ┆          ┆           ┆          ┆   ┆             ┆          ┆       ┆ .fr/auto-o… │\n",
       "│ AUDI Q3 II  ┆ 1.5      ┆ 150       ┆ 35       ┆ … ┆ Automatique ┆ Hybrides ┆ 37590 ┆ https://www │\n",
       "│ S LINE      ┆          ┆           ┆          ┆   ┆             ┆          ┆       ┆ .lacentrale │\n",
       "│             ┆          ┆           ┆          ┆   ┆             ┆          ┆       ┆ .fr/auto-o… │\n",
       "│ VOLKSWAGEN  ┆ 1.5      ┆ 150       ┆ TSI      ┆ … ┆ Automatique ┆ Essence  ┆ 40710 ┆ https://www │\n",
       "│ T-ROC phase ┆          ┆           ┆          ┆   ┆             ┆          ┆       ┆ .lacentrale │\n",
       "│ 2 LIFE PL…  ┆          ┆           ┆          ┆   ┆             ┆          ┆       ┆ .fr/auto-o… │\n",
       "│ …           ┆ …        ┆ …         ┆ …        ┆ … ┆ …           ┆ …        ┆ …     ┆ …           │\n",
       "│ TOYOTA      ┆ 1.8      ┆ 122       ┆ HYBRIDE  ┆ … ┆ Automatique ┆ Hybrides ┆ 29550 ┆ https://www │\n",
       "│ COROLLA XII ┆          ┆           ┆          ┆   ┆             ┆          ┆       ┆ .lacentrale │\n",
       "│ COLLECTION  ┆          ┆           ┆          ┆   ┆             ┆          ┆       ┆ .fr/auto-o… │\n",
       "│ CITROEN C3  ┆ 1.2      ┆ 110       ┆ PURETECH ┆ … ┆ Manuelle    ┆ Essence  ┆ 20460 ┆ https://www │\n",
       "│ III phase 2 ┆          ┆           ┆          ┆   ┆             ┆          ┆       ┆ .lacentrale │\n",
       "│ FEEL PACK   ┆          ┆           ┆          ┆   ┆             ┆          ┆       ┆ .fr/auto-o… │\n",
       "│ PEUGEOT     ┆ 1.5      ┆ 130       ┆ BLUEHDI  ┆ … ┆ Automatique ┆ Diesel   ┆ 24820 ┆ https://www │\n",
       "│ 3008 II     ┆          ┆           ┆          ┆   ┆             ┆          ┆       ┆ .lacentrale │\n",
       "│ phase 2     ┆          ┆           ┆          ┆   ┆             ┆          ┆       ┆ .fr/auto-o… │\n",
       "│ ALLURE      ┆          ┆           ┆          ┆   ┆             ┆          ┆       ┆             │\n",
       "│ NISSAN      ┆ 1.5      ┆ 110       ┆ DCI      ┆ … ┆ Manuelle    ┆ Diesel   ┆ 9400  ┆ https://www │\n",
       "│ QASHQAI     ┆          ┆           ┆          ┆   ┆             ┆          ┆       ┆ .lacentrale │\n",
       "│ phase 2     ┆          ┆           ┆          ┆   ┆             ┆          ┆       ┆ .fr/auto-o… │\n",
       "│ CONNECT E…  ┆          ┆           ┆          ┆   ┆             ┆          ┆       ┆             │\n",
       "└─────────────┴──────────┴───────────┴──────────┴───┴─────────────┴──────────┴───────┴─────────────┘"
      ]
     },
     "execution_count": 16,
     "metadata": {},
     "output_type": "execute_result"
    }
   ],
   "source": [
    "duckdb.sql(\n",
    "            f\"\"\"\n",
    "            SELECT CONCAT(\n",
    "            marque, ' ', modele, ' ',\n",
    "            CASE WHEN generation = 'NA' THEN '' ELSE generation END,\n",
    "            ' ', finition\n",
    "            ) as Véhicule, \n",
    "            cylindre, puissance, moteur, annee, boite, energie, prix, lien\n",
    "            FROM 'data/database.parquet';\"\"\").pl()"
   ]
  }
 ],
 "metadata": {
  "kernelspec": {
   "display_name": "Python 3",
   "language": "python",
   "name": "python3"
  },
  "language_info": {
   "codemirror_mode": {
    "name": "ipython",
    "version": 3
   },
   "file_extension": ".py",
   "mimetype": "text/x-python",
   "name": "python",
   "nbconvert_exporter": "python",
   "pygments_lexer": "ipython3",
   "version": "3.10.7"
  }
 },
 "nbformat": 4,
 "nbformat_minor": 2
}
