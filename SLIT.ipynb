{
 "cells": [
  {
   "cell_type": "code",
   "execution_count": 1,
   "metadata": {},
   "outputs": [],
   "source": [
    "import duckdb\n",
    "import polars as pl"
   ]
  },
  {
   "cell_type": "code",
   "execution_count": 4,
   "metadata": {},
   "outputs": [
    {
     "ename": "UnicodeDecodeError",
     "evalue": "'charmap' codec can't decode byte 0x8f in position 305433: character maps to <undefined>",
     "output_type": "error",
     "traceback": [
      "\u001b[1;31m---------------------------------------------------------------------------\u001b[0m",
      "\u001b[1;31mUnicodeDecodeError\u001b[0m                        Traceback (most recent call last)",
      "Cell \u001b[1;32mIn [4], line 13\u001b[0m\n\u001b[0;32m     11\u001b[0m     plotly_json \u001b[38;5;241m=\u001b[39m {\u001b[38;5;124m'\u001b[39m\u001b[38;5;124mdata\u001b[39m\u001b[38;5;124m'\u001b[39m: call_args[\u001b[38;5;241m1\u001b[39m], \u001b[38;5;124m'\u001b[39m\u001b[38;5;124mlayout\u001b[39m\u001b[38;5;124m'\u001b[39m: call_args[\u001b[38;5;241m2\u001b[39m]}    \n\u001b[0;32m     12\u001b[0m     \u001b[38;5;28;01mreturn\u001b[39;00m plotly\u001b[38;5;241m.\u001b[39mio\u001b[38;5;241m.\u001b[39mfrom_json(json\u001b[38;5;241m.\u001b[39mdumps(plotly_json))\n\u001b[1;32m---> 13\u001b[0m \u001b[43mread_from_html\u001b[49m\u001b[43m(\u001b[49m\u001b[38;5;124;43m\"\u001b[39;49m\u001b[38;5;124;43mplots/KNeigbors_graph.html\u001b[39;49m\u001b[38;5;124;43m\"\u001b[39;49m\u001b[43m)\u001b[49m\n",
      "Cell \u001b[1;32mIn [4], line 8\u001b[0m, in \u001b[0;36mread_from_html\u001b[1;34m(file)\u001b[0m\n\u001b[0;32m      6\u001b[0m \u001b[38;5;28;01mdef\u001b[39;00m \u001b[38;5;21mread_from_html\u001b[39m(file):\n\u001b[0;32m      7\u001b[0m     \u001b[38;5;28;01mwith\u001b[39;00m \u001b[38;5;28mopen\u001b[39m(file) \u001b[38;5;28;01mas\u001b[39;00m f:\n\u001b[1;32m----> 8\u001b[0m         html \u001b[38;5;241m=\u001b[39m \u001b[43mf\u001b[49m\u001b[38;5;241;43m.\u001b[39;49m\u001b[43mread\u001b[49m\u001b[43m(\u001b[49m\u001b[43m)\u001b[49m\n\u001b[0;32m      9\u001b[0m     call_arg_str \u001b[38;5;241m=\u001b[39m re\u001b[38;5;241m.\u001b[39mfindall(\u001b[38;5;124mr\u001b[39m\u001b[38;5;124m'\u001b[39m\u001b[38;5;124mPlotly\u001b[39m\u001b[38;5;124m\\\u001b[39m\u001b[38;5;124m.newPlot\u001b[39m\u001b[38;5;124m\\\u001b[39m\u001b[38;5;124m((.*)\u001b[39m\u001b[38;5;124m\\\u001b[39m\u001b[38;5;124m)\u001b[39m\u001b[38;5;124m'\u001b[39m, html[\u001b[38;5;241m-\u001b[39m\u001b[38;5;241m2\u001b[39m\u001b[38;5;241m*\u001b[39m\u001b[38;5;241m*\u001b[39m\u001b[38;5;241m16\u001b[39m:])[\u001b[38;5;241m0\u001b[39m]\n\u001b[0;32m     10\u001b[0m     call_args \u001b[38;5;241m=\u001b[39m json\u001b[38;5;241m.\u001b[39mloads(\u001b[38;5;124mf\u001b[39m\u001b[38;5;124m'\u001b[39m\u001b[38;5;124m[\u001b[39m\u001b[38;5;132;01m{\u001b[39;00mcall_arg_str\u001b[38;5;132;01m}\u001b[39;00m\u001b[38;5;124m]\u001b[39m\u001b[38;5;124m'\u001b[39m)\n",
      "File \u001b[1;32mc:\\Users\\Hassa\\AppData\\Local\\Programs\\Python\\Python310\\lib\\encodings\\cp1252.py:23\u001b[0m, in \u001b[0;36mIncrementalDecoder.decode\u001b[1;34m(self, input, final)\u001b[0m\n\u001b[0;32m     22\u001b[0m \u001b[38;5;28;01mdef\u001b[39;00m \u001b[38;5;21mdecode\u001b[39m(\u001b[38;5;28mself\u001b[39m, \u001b[38;5;28minput\u001b[39m, final\u001b[38;5;241m=\u001b[39m\u001b[38;5;28;01mFalse\u001b[39;00m):\n\u001b[1;32m---> 23\u001b[0m     \u001b[38;5;28;01mreturn\u001b[39;00m \u001b[43mcodecs\u001b[49m\u001b[38;5;241;43m.\u001b[39;49m\u001b[43mcharmap_decode\u001b[49m\u001b[43m(\u001b[49m\u001b[38;5;28;43minput\u001b[39;49m\u001b[43m,\u001b[49m\u001b[38;5;28;43mself\u001b[39;49m\u001b[38;5;241;43m.\u001b[39;49m\u001b[43merrors\u001b[49m\u001b[43m,\u001b[49m\u001b[43mdecoding_table\u001b[49m\u001b[43m)\u001b[49m[\u001b[38;5;241m0\u001b[39m]\n",
      "\u001b[1;31mUnicodeDecodeError\u001b[0m: 'charmap' codec can't decode byte 0x8f in position 305433: character maps to <undefined>"
     ]
    }
   ],
   "source": [
    "import json\n",
    "import re\n",
    "\n",
    "import plotly.express\n",
    "\n",
    "def read_from_html(file):\n",
    "    with open(file) as f:\n",
    "        html = f.read()\n",
    "    call_arg_str = re.findall(r'Plotly\\.newPlot\\((.*)\\)', html[-2**16:])[0]\n",
    "    call_args = json.loads(f'[{call_arg_str}]')\n",
    "    plotly_json = {'data': call_args[1], 'layout': call_args[2]}    \n",
    "    return plotly.io.from_json(json.dumps(plotly_json))\n",
    "read_from_html(\"plots/KNeigbors_graph.html\")"
   ]
  },
  {
   "cell_type": "code",
   "execution_count": 3,
   "metadata": {},
   "outputs": [
    {
     "data": {
      "text/html": [
       "<div><style>\n",
       ".dataframe > thead > tr > th,\n",
       ".dataframe > tbody > tr > td {\n",
       "  text-align: right;\n",
       "  white-space: pre-wrap;\n",
       "}\n",
       "</style>\n",
       "<small>shape: (273_081, 9)</small><table border=\"1\" class=\"dataframe\"><thead><tr><th>Véhicule</th><th>cylindre</th><th>puissance</th><th>moteur</th><th>annee</th><th>boite</th><th>energie</th><th>prix</th><th>lien</th></tr><tr><td>str</td><td>str</td><td>i64</td><td>str</td><td>i32</td><td>str</td><td>str</td><td>i64</td><td>str</td></tr></thead><tbody><tr><td>&quot;CITROEN C3 III…</td><td>&quot;1.2&quot;</td><td>82</td><td>&quot;PURETECH&quot;</td><td>2020</td><td>&quot;Manuelle&quot;</td><td>&quot;Essence&quot;</td><td>13050</td><td>&quot;https://www.la…</td></tr><tr><td>&quot;DS DS 3 DS 3 C…</td><td>&quot;1.2&quot;</td><td>100</td><td>&quot;PURETECH&quot;</td><td>2022</td><td>&quot;Manuelle&quot;</td><td>&quot;Essence&quot;</td><td>23310</td><td>&quot;https://www.la…</td></tr><tr><td>&quot;MERCEDES CL  D…</td><td>&quot;2.0&quot;</td><td>220</td><td>null</td><td>2022</td><td>&quot;Automatique&quot;</td><td>&quot;Diesel&quot;</td><td>58120</td><td>&quot;https://www.la…</td></tr><tr><td>&quot;NISSAN MICRA V…</td><td>&quot;1.0&quot;</td><td>117</td><td>&quot;DIG-T&quot;</td><td>2020</td><td>&quot;Manuelle&quot;</td><td>&quot;Essence&quot;</td><td>16640</td><td>&quot;https://www.la…</td></tr><tr><td>&quot;SEAT IBIZA V p…</td><td>&quot;1.0&quot;</td><td>95</td><td>&quot;ECOTSI&quot;</td><td>2024</td><td>&quot;Manuelle&quot;</td><td>&quot;Essence&quot;</td><td>22400</td><td>&quot;https://www.la…</td></tr><tr><td>&quot;OPEL ASTRA V p…</td><td>&quot;1.5&quot;</td><td>122</td><td>&quot;DIESEL&quot;</td><td>2022</td><td>&quot;Automatique&quot;</td><td>&quot;Diesel&quot;</td><td>24180</td><td>&quot;https://www.la…</td></tr><tr><td>&quot;VOLVO XC60 II …</td><td>&quot;2.0&quot;</td><td>390</td><td>&quot;T8&quot;</td><td>2019</td><td>&quot;Automatique&quot;</td><td>&quot;Hybrides&quot;</td><td>57480</td><td>&quot;https://www.la…</td></tr><tr><td>&quot;DS DS 3 phase …</td><td>&quot;1.2&quot;</td><td>110</td><td>&quot;PURETECH&quot;</td><td>2018</td><td>&quot;Automatique&quot;</td><td>&quot;Essence&quot;</td><td>16480</td><td>&quot;https://www.la…</td></tr><tr><td>&quot;FORD EXPLORER …</td><td>&quot;3.0&quot;</td><td>457</td><td>&quot;ECOBOOST&quot;</td><td>2022</td><td>&quot;Automatique&quot;</td><td>&quot;Hybrides&quot;</td><td>54890</td><td>&quot;https://www.la…</td></tr><tr><td>&quot;RENAULT CLIO V…</td><td>&quot;1.0&quot;</td><td>90</td><td>&quot;TCE&quot;</td><td>2023</td><td>&quot;Manuelle&quot;</td><td>&quot;Essence&quot;</td><td>17640</td><td>&quot;https://www.la…</td></tr><tr><td>&quot;RENAULT TALISM…</td><td>&quot;1.6&quot;</td><td>130</td><td>&quot;DCI&quot;</td><td>2019</td><td>&quot;Automatique&quot;</td><td>&quot;Diesel&quot;</td><td>21690</td><td>&quot;https://www.la…</td></tr><tr><td>&quot;DACIA DUSTER I…</td><td>&quot;1.2&quot;</td><td>125</td><td>&quot;TCE&quot;</td><td>2018</td><td>&quot;Manuelle&quot;</td><td>&quot;Essence&quot;</td><td>14150</td><td>&quot;https://www.la…</td></tr><tr><td>&hellip;</td><td>&hellip;</td><td>&hellip;</td><td>&hellip;</td><td>&hellip;</td><td>&hellip;</td><td>&hellip;</td><td>&hellip;</td><td>&hellip;</td></tr><tr><td>&quot;OPEL CORSA VI …</td><td>&quot;1.2&quot;</td><td>100</td><td>null</td><td>2022</td><td>&quot;Manuelle&quot;</td><td>&quot;Essence&quot;</td><td>16790</td><td>&quot;https://www.la…</td></tr><tr><td>&quot;MERCEDES CL  A…</td><td>&quot;1.5&quot;</td><td>184</td><td>&quot;200&quot;</td><td>2021</td><td>&quot;Automatique&quot;</td><td>&quot;Essence&quot;</td><td>40870</td><td>&quot;https://www.la…</td></tr><tr><td>&quot;TOYOTA PRIUS I…</td><td>&quot;1.8&quot;</td><td>122</td><td>&quot;VVT-I&quot;</td><td>2018</td><td>&quot;Automatique&quot;</td><td>&quot;Hybrides&quot;</td><td>21130</td><td>&quot;https://www.la…</td></tr><tr><td>&quot;VOLKSWAGEN GOL…</td><td>&quot;1.4&quot;</td><td>150</td><td>&quot;TSI&quot;</td><td>2016</td><td>&quot;Automatique&quot;</td><td>&quot;Essence&quot;</td><td>17830</td><td>&quot;https://www.la…</td></tr><tr><td>&quot;VOLKSWAGEN ID.…</td><td>null</td><td>204</td><td>null</td><td>2024</td><td>&quot;Automatique&quot;</td><td>&quot;Électrique&quot;</td><td>39730</td><td>&quot;https://www.la…</td></tr><tr><td>&quot;VOLVO XC90  EX…</td><td>&quot;2.4&quot;</td><td>185</td><td>&quot;D5&quot;</td><td>2005</td><td>&quot;Automatique&quot;</td><td>&quot;Diesel&quot;</td><td>9870</td><td>&quot;https://www.la…</td></tr><tr><td>&quot;DS DS 4 DS 4 I…</td><td>&quot;1.5&quot;</td><td>130</td><td>&quot;BLUEHDI&quot;</td><td>2023</td><td>&quot;Automatique&quot;</td><td>&quot;Diesel&quot;</td><td>38310</td><td>&quot;https://www.la…</td></tr><tr><td>&quot;MERCEDES CL  A…</td><td>&quot;1.3&quot;</td><td>163</td><td>&quot;200&quot;</td><td>2020</td><td>&quot;Automatique&quot;</td><td>&quot;Essence&quot;</td><td>32020</td><td>&quot;https://www.la…</td></tr><tr><td>&quot;BMW SERIE 3 G2…</td><td>&quot;2.0&quot;</td><td>190</td><td>&quot;320DA&quot;</td><td>2021</td><td>&quot;Automatique&quot;</td><td>&quot;Diesel&quot;</td><td>35750</td><td>&quot;https://www.la…</td></tr><tr><td>&quot;VOLKSWAGEN POL…</td><td>&quot;1.6&quot;</td><td>90</td><td>&quot;TDI&quot;</td><td>2012</td><td>&quot;Manuelle&quot;</td><td>&quot;Diesel&quot;</td><td>11480</td><td>&quot;https://www.la…</td></tr><tr><td>&quot;OPEL CORSA V E…</td><td>&quot;1.4&quot;</td><td>90</td><td>null</td><td>2020</td><td>&quot;Manuelle&quot;</td><td>&quot;Essence&quot;</td><td>10590</td><td>&quot;https://www.la…</td></tr><tr><td>&quot;RENAULT CAPTUR…</td><td>&quot;1.5&quot;</td><td>90</td><td>&quot;DCI&quot;</td><td>2015</td><td>&quot;Manuelle&quot;</td><td>&quot;Diesel&quot;</td><td>11580</td><td>&quot;https://www.la…</td></tr></tbody></table></div>"
      ],
      "text/plain": [
       "shape: (273_081, 9)\n",
       "┌──────────────┬──────────┬───────────┬──────────┬───┬─────────────┬─────────┬───────┬─────────────┐\n",
       "│ Véhicule     ┆ cylindre ┆ puissance ┆ moteur   ┆ … ┆ boite       ┆ energie ┆ prix  ┆ lien        │\n",
       "│ ---          ┆ ---      ┆ ---       ┆ ---      ┆   ┆ ---         ┆ ---     ┆ ---   ┆ ---         │\n",
       "│ str          ┆ str      ┆ i64       ┆ str      ┆   ┆ str         ┆ str     ┆ i64   ┆ str         │\n",
       "╞══════════════╪══════════╪═══════════╪══════════╪═══╪═════════════╪═════════╪═══════╪═════════════╡\n",
       "│ CITROEN C3   ┆ 1.2      ┆ 82        ┆ PURETECH ┆ … ┆ Manuelle    ┆ Essence ┆ 13050 ┆ https://www │\n",
       "│ III S&S FEEL ┆          ┆           ┆          ┆   ┆             ┆         ┆       ┆ .lacentrale │\n",
       "│ BUSINESS     ┆          ┆           ┆          ┆   ┆             ┆         ┆       ┆ .fr/auto-o… │\n",
       "│ DS DS 3 DS 3 ┆ 1.2      ┆ 100       ┆ PURETECH ┆ … ┆ Manuelle    ┆ Essence ┆ 23310 ┆ https://www │\n",
       "│ CROSSBACK SO ┆          ┆           ┆          ┆   ┆             ┆         ┆       ┆ .lacentrale │\n",
       "│ CHIC         ┆          ┆           ┆          ┆   ┆             ┆         ┆       ┆ .fr/auto-o… │\n",
       "│ MERCEDES CL  ┆ 2.0      ┆ 220       ┆ null     ┆ … ┆ Automatique ┆ Diesel  ┆ 58120 ┆ https://www │\n",
       "│ D 200 AMG    ┆          ┆           ┆          ┆   ┆             ┆         ┆       ┆ .lacentrale │\n",
       "│ LINE         ┆          ┆           ┆          ┆   ┆             ┆         ┆       ┆ .fr/auto-o… │\n",
       "│ NISSAN MICRA ┆ 1.0      ┆ 117       ┆ DIG-T    ┆ … ┆ Manuelle    ┆ Essence ┆ 16640 ┆ https://www │\n",
       "│ V N-CONNECTA ┆          ┆           ┆          ┆   ┆             ┆         ┆       ┆ .lacentrale │\n",
       "│              ┆          ┆           ┆          ┆   ┆             ┆         ┆       ┆ .fr/auto-o… │\n",
       "│ …            ┆ …        ┆ …         ┆ …        ┆ … ┆ …           ┆ …       ┆ …     ┆ …           │\n",
       "│ BMW SERIE 3  ┆ 2.0      ┆ 190       ┆ 320DA    ┆ … ┆ Automatique ┆ Diesel  ┆ 35750 ┆ https://www │\n",
       "│ G20 LUXURY   ┆          ┆           ┆          ┆   ┆             ┆         ┆       ┆ .lacentrale │\n",
       "│              ┆          ┆           ┆          ┆   ┆             ┆         ┆       ┆ .fr/auto-o… │\n",
       "│ VOLKSWAGEN   ┆ 1.6      ┆ 90        ┆ TDI      ┆ … ┆ Manuelle    ┆ Diesel  ┆ 11480 ┆ https://www │\n",
       "│ POLO V       ┆          ┆           ┆          ┆   ┆             ┆         ┆       ┆ .lacentrale │\n",
       "│ TRENDLINE    ┆          ┆           ┆          ┆   ┆             ┆         ┆       ┆ .fr/auto-o… │\n",
       "│ OPEL CORSA V ┆ 1.4      ┆ 90        ┆ null     ┆ … ┆ Manuelle    ┆ Essence ┆ 10590 ┆ https://www │\n",
       "│ ENJOY        ┆          ┆           ┆          ┆   ┆             ┆         ┆       ┆ .lacentrale │\n",
       "│              ┆          ┆           ┆          ┆   ┆             ┆         ┆       ┆ .fr/auto-o… │\n",
       "│ RENAULT      ┆ 1.5      ┆ 90        ┆ DCI      ┆ … ┆ Manuelle    ┆ Diesel  ┆ 11580 ┆ https://www │\n",
       "│ CAPTUR       ┆          ┆           ┆          ┆   ┆             ┆         ┆       ┆ .lacentrale │\n",
       "│ BUSINESS     ┆          ┆           ┆          ┆   ┆             ┆         ┆       ┆ .fr/auto-o… │\n",
       "└──────────────┴──────────┴───────────┴──────────┴───┴─────────────┴─────────┴───────┴─────────────┘"
      ]
     },
     "execution_count": 3,
     "metadata": {},
     "output_type": "execute_result"
    }
   ],
   "source": [
    "duckdb.sql(\n",
    "            f\"\"\"\n",
    "            SELECT CONCAT(\n",
    "            marque, ' ', modele, ' ',\n",
    "            CASE WHEN generation = 'NA' THEN '' ELSE generation END,\n",
    "            ' ', finition\n",
    "            ) as Véhicule, \n",
    "            cylindre, puissance, moteur, annee, boite, energie, prix, lien\n",
    "            FROM 'data/database.parquet';\"\"\").pl()"
   ]
  }
 ],
 "metadata": {
  "kernelspec": {
   "display_name": "Python 3",
   "language": "python",
   "name": "python3"
  },
  "language_info": {
   "codemirror_mode": {
    "name": "ipython",
    "version": 3
   },
   "file_extension": ".py",
   "mimetype": "text/x-python",
   "name": "python",
   "nbconvert_exporter": "python",
   "pygments_lexer": "ipython3",
   "version": "3.10.7"
  }
 },
 "nbformat": 4,
 "nbformat_minor": 2
}
