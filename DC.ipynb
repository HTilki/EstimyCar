{
 "cells": [
  {
   "cell_type": "code",
   "execution_count": 2,
   "metadata": {},
   "outputs": [],
   "source": [
    "from webscraping import import_marques_modeles, fusionner_fichiers_json\n",
    "from datacleaning import *\n",
    "import polars as pl"
   ]
  },
  {
   "cell_type": "code",
   "execution_count": 6,
   "metadata": {},
   "outputs": [],
   "source": [
    "FICHIERS_JSON = [\"data_a_d.json\", \"data_e_l.json\", \"data_m_p.json\", \"data_r_z.json\"]\n",
    "\n",
    "nom_marques_modeles = import_marques_modeles()\n",
    "data_brutes = fusionner_fichiers_json(FICHIERS_JSON)"
   ]
  },
  {
   "cell_type": "code",
   "execution_count": 7,
   "metadata": {},
   "outputs": [],
   "source": [
    "data_brutes = pl.DataFrame(data_brutes)\n",
    "nom_marques_modeles = pl.DataFrame(nom_marques_modeles)"
   ]
  },
  {
   "cell_type": "code",
   "execution_count": 3,
   "metadata": {},
   "outputs": [
    {
     "data": {
      "text/html": [
       "<div><style>\n",
       ".dataframe > thead > tr > th,\n",
       ".dataframe > tbody > tr > td {\n",
       "  text-align: right;\n",
       "  white-space: pre-wrap;\n",
       "}\n",
       "</style>\n",
       "<small>shape: (6, 13)</small><table border=\"1\" class=\"dataframe\"><thead><tr><th>cylindre</th><th>cylindre_2</th><th>moteur</th><th>puissance</th><th>finition</th><th>puissance_2</th><th>moteur_2</th><th>puissance_3</th><th>puissance_elec</th><th>batterie</th><th>finition_2</th><th>puissance_elec_2</th><th>batterie_2</th></tr><tr><td>str</td><td>str</td><td>str</td><td>str</td><td>str</td><td>str</td><td>str</td><td>str</td><td>str</td><td>str</td><td>str</td><td>str</td><td>str</td></tr></thead><tbody><tr><td>&quot;1.6 BLUEHDI 10…</td><td>&quot;1.6&quot;</td><td>&quot;BLUEHDI&quot;</td><td>&quot;100&quot;</td><td>&quot;SHINE&quot;</td><td>null</td><td>&quot;BLUEHDI&quot;</td><td>&quot;100&quot;</td><td>null</td><td>null</td><td>null</td><td>null</td><td>null</td></tr><tr><td>&quot;1.2 PURETECH 1…</td><td>&quot;1.2&quot;</td><td>&quot;PURETECH&quot;</td><td>&quot;130&quot;</td><td>&quot;FEEL PACK BUSI…</td><td>null</td><td>&quot;PURETECH&quot;</td><td>&quot;130&quot;</td><td>null</td><td>null</td><td>null</td><td>null</td><td>null</td></tr><tr><td>&quot;1.1 60 MIAMI&quot;</td><td>&quot;1.1&quot;</td><td>null</td><td>&quot;60&quot;</td><td>&quot;MIAMI&quot;</td><td>&quot;60&quot;</td><td>null</td><td>null</td><td>null</td><td>null</td><td>null</td><td>null</td><td>null</td></tr><tr><td>&quot;DOLLY&quot;</td><td>null</td><td>null</td><td>null</td><td>null</td><td>null</td><td>null</td><td>null</td><td>null</td><td>null</td><td>null</td><td>null</td><td>null</td></tr><tr><td>&quot;2.0 HDI 90&quot;</td><td>&quot;2.0&quot;</td><td>null</td><td>null</td><td>null</td><td>null</td><td>&quot;HDI&quot;</td><td>&quot;90&quot;</td><td>null</td><td>null</td><td>null</td><td>null</td><td>null</td></tr><tr><td>&quot;320ch 75kWh&quot;</td><td>null</td><td>null</td><td>null</td><td>null</td><td>null</td><td>null</td><td>null</td><td>null</td><td>null</td><td>null</td><td>&quot;320ch&quot;</td><td>&quot;75kWh&quot;</td></tr></tbody></table></div>"
      ],
      "text/plain": [
       "shape: (6, 13)\n",
       "┌────────────┬───────────┬──────────┬───────────┬───┬──────────┬───────────┬───────────┬───────────┐\n",
       "│ cylindre   ┆ cylindre_ ┆ moteur   ┆ puissance ┆ … ┆ batterie ┆ finition_ ┆ puissance ┆ batterie_ │\n",
       "│ ---        ┆ 2         ┆ ---      ┆ ---       ┆   ┆ ---      ┆ 2         ┆ _elec_2   ┆ 2         │\n",
       "│ str        ┆ ---       ┆ str      ┆ str       ┆   ┆ str      ┆ ---       ┆ ---       ┆ ---       │\n",
       "│            ┆ str       ┆          ┆           ┆   ┆          ┆ str       ┆ str       ┆ str       │\n",
       "╞════════════╪═══════════╪══════════╪═══════════╪═══╪══════════╪═══════════╪═══════════╪═══════════╡\n",
       "│ 1.6        ┆ 1.6       ┆ BLUEHDI  ┆ 100       ┆ … ┆ null     ┆ null      ┆ null      ┆ null      │\n",
       "│ BLUEHDI    ┆           ┆          ┆           ┆   ┆          ┆           ┆           ┆           │\n",
       "│ 100 SHINE  ┆           ┆          ┆           ┆   ┆          ┆           ┆           ┆           │\n",
       "│ 1.2        ┆ 1.2       ┆ PURETECH ┆ 130       ┆ … ┆ null     ┆ null      ┆ null      ┆ null      │\n",
       "│ PURETECH   ┆           ┆          ┆           ┆   ┆          ┆           ┆           ┆           │\n",
       "│ 130 FEEL   ┆           ┆          ┆           ┆   ┆          ┆           ┆           ┆           │\n",
       "│ PACK       ┆           ┆          ┆           ┆   ┆          ┆           ┆           ┆           │\n",
       "│ BUSIN…     ┆           ┆          ┆           ┆   ┆          ┆           ┆           ┆           │\n",
       "│ 1.1 60     ┆ 1.1       ┆ null     ┆ 60        ┆ … ┆ null     ┆ null      ┆ null      ┆ null      │\n",
       "│ MIAMI      ┆           ┆          ┆           ┆   ┆          ┆           ┆           ┆           │\n",
       "│ DOLLY      ┆ null      ┆ null     ┆ null      ┆ … ┆ null     ┆ null      ┆ null      ┆ null      │\n",
       "│ 2.0 HDI 90 ┆ 2.0       ┆ null     ┆ null      ┆ … ┆ null     ┆ null      ┆ null      ┆ null      │\n",
       "│ 320ch      ┆ null      ┆ null     ┆ null      ┆ … ┆ null     ┆ null      ┆ 320ch     ┆ 75kWh     │\n",
       "│ 75kWh      ┆           ┆          ┆           ┆   ┆          ┆           ┆           ┆           │\n",
       "└────────────┴───────────┴──────────┴───────────┴───┴──────────┴───────────┴───────────┴───────────┘"
      ]
     },
     "execution_count": 3,
     "metadata": {},
     "output_type": "execute_result"
    }
   ],
   "source": [
    "data_ex = pl.DataFrame({\"cylindre\": [\"1.6 BLUEHDI 100 SHINE\", \"1.2 PURETECH 130 FEEL PACK BUSINESS\", \"1.1 60 MIAMI\", \"DOLLY\", \"2.0 HDI 90\", \"320ch 75kWh\"]})\n",
    "split_cylindre(data_ex)"
   ]
  },
  {
   "cell_type": "code",
   "execution_count": 4,
   "metadata": {},
   "outputs": [
    {
     "data": {
      "text/html": [
       "<div><style>\n",
       ".dataframe > thead > tr > th,\n",
       ".dataframe > tbody > tr > td {\n",
       "  text-align: right;\n",
       "  white-space: pre-wrap;\n",
       "}\n",
       "</style>\n",
       "<small>shape: (6, 5)</small><table border=\"1\" class=\"dataframe\"><thead><tr><th>cylindre</th><th>moteur</th><th>puissance</th><th>finition</th><th>batterie</th></tr><tr><td>str</td><td>str</td><td>str</td><td>str</td><td>str</td></tr></thead><tbody><tr><td>&quot;1.6&quot;</td><td>&quot;BLUEHDI&quot;</td><td>&quot;100&quot;</td><td>&quot;SHINE&quot;</td><td>null</td></tr><tr><td>&quot;1.2&quot;</td><td>&quot;PURETECH&quot;</td><td>&quot;130&quot;</td><td>&quot;FEEL PACK BUSI…</td><td>null</td></tr><tr><td>&quot;1.1&quot;</td><td>null</td><td>&quot;60&quot;</td><td>&quot;MIAMI&quot;</td><td>null</td></tr><tr><td>null</td><td>null</td><td>null</td><td>null</td><td>null</td></tr><tr><td>&quot;2.0&quot;</td><td>&quot;HDI&quot;</td><td>&quot;90&quot;</td><td>null</td><td>null</td></tr><tr><td>null</td><td>null</td><td>&quot;320ch&quot;</td><td>null</td><td>&quot;75kWh&quot;</td></tr></tbody></table></div>"
      ],
      "text/plain": [
       "shape: (6, 5)\n",
       "┌──────────┬──────────┬───────────┬────────────────────┬──────────┐\n",
       "│ cylindre ┆ moteur   ┆ puissance ┆ finition           ┆ batterie │\n",
       "│ ---      ┆ ---      ┆ ---       ┆ ---                ┆ ---      │\n",
       "│ str      ┆ str      ┆ str       ┆ str                ┆ str      │\n",
       "╞══════════╪══════════╪═══════════╪════════════════════╪══════════╡\n",
       "│ 1.6      ┆ BLUEHDI  ┆ 100       ┆ SHINE              ┆ null     │\n",
       "│ 1.2      ┆ PURETECH ┆ 130       ┆ FEEL PACK BUSINESS ┆ null     │\n",
       "│ 1.1      ┆ null     ┆ 60        ┆ MIAMI              ┆ null     │\n",
       "│ null     ┆ null     ┆ null      ┆ null               ┆ null     │\n",
       "│ 2.0      ┆ HDI      ┆ 90        ┆ null               ┆ null     │\n",
       "│ null     ┆ null     ┆ 320ch     ┆ null               ┆ 75kWh    │\n",
       "└──────────┴──────────┴───────────┴────────────────────┴──────────┘"
      ]
     },
     "execution_count": 4,
     "metadata": {},
     "output_type": "execute_result"
    }
   ],
   "source": [
    "clean_cylindre(split_cylindre(data_ex))"
   ]
  },
  {
   "cell_type": "code",
   "execution_count": 8,
   "metadata": {},
   "outputs": [
    {
     "data": {
      "text/plain": [
       "(308284, 10)"
      ]
     },
     "execution_count": 8,
     "metadata": {},
     "output_type": "execute_result"
    }
   ],
   "source": [
    "data_brutes.shape"
   ]
  },
  {
   "cell_type": "code",
   "execution_count": 9,
   "metadata": {},
   "outputs": [],
   "source": [
    "data = gazoduc(data_brutes, nom_marques_modeles)"
   ]
  },
  {
   "cell_type": "code",
   "execution_count": 10,
   "metadata": {},
   "outputs": [
    {
     "data": {
      "text/plain": [
       "(281156, 16)"
      ]
     },
     "execution_count": 10,
     "metadata": {},
     "output_type": "execute_result"
    }
   ],
   "source": [
    "data.shape"
   ]
  },
  {
   "cell_type": "code",
   "execution_count": 8,
   "metadata": {},
   "outputs": [
    {
     "data": {
      "text/html": [
       "<div><style>\n",
       ".dataframe > thead > tr > th,\n",
       ".dataframe > tbody > tr > td {\n",
       "  text-align: right;\n",
       "  white-space: pre-wrap;\n",
       "}\n",
       "</style>\n",
       "<small>shape: (1, 16)</small><table border=\"1\" class=\"dataframe\"><thead><tr><th>annee</th><th>kilometrage</th><th>boite</th><th>energie</th><th>prix</th><th>position_marché</th><th>garantie</th><th>lien</th><th>marque</th><th>modele</th><th>generation</th><th>cylindre</th><th>moteur</th><th>puissance</th><th>finition</th><th>batterie</th></tr><tr><td>u32</td><td>u32</td><td>u32</td><td>u32</td><td>u32</td><td>u32</td><td>u32</td><td>u32</td><td>u32</td><td>u32</td><td>u32</td><td>u32</td><td>u32</td><td>u32</td><td>u32</td><td>u32</td></tr></thead><tbody><tr><td>0</td><td>0</td><td>0</td><td>0</td><td>0</td><td>0</td><td>0</td><td>0</td><td>0</td><td>0</td><td>0</td><td>15052</td><td>53431</td><td>0</td><td>4668</td><td>258021</td></tr></tbody></table></div>"
      ],
      "text/plain": [
       "shape: (1, 16)\n",
       "┌───────┬─────────────┬───────┬─────────┬───┬────────┬───────────┬──────────┬──────────┐\n",
       "│ annee ┆ kilometrage ┆ boite ┆ energie ┆ … ┆ moteur ┆ puissance ┆ finition ┆ batterie │\n",
       "│ ---   ┆ ---         ┆ ---   ┆ ---     ┆   ┆ ---    ┆ ---       ┆ ---      ┆ ---      │\n",
       "│ u32   ┆ u32         ┆ u32   ┆ u32     ┆   ┆ u32    ┆ u32       ┆ u32      ┆ u32      │\n",
       "╞═══════╪═════════════╪═══════╪═════════╪═══╪════════╪═══════════╪══════════╪══════════╡\n",
       "│ 0     ┆ 0           ┆ 0     ┆ 0       ┆ … ┆ 53431  ┆ 0         ┆ 4668     ┆ 258021   │\n",
       "└───────┴─────────────┴───────┴─────────┴───┴────────┴───────────┴──────────┴──────────┘"
      ]
     },
     "execution_count": 8,
     "metadata": {},
     "output_type": "execute_result"
    }
   ],
   "source": [
    "data.null_count()"
   ]
  },
  {
   "cell_type": "code",
   "execution_count": null,
   "metadata": {},
   "outputs": [],
   "source": [
    "data.write_parquet('data/database.parquet')"
   ]
  },
  {
   "cell_type": "code",
   "execution_count": 6,
   "metadata": {},
   "outputs": [],
   "source": [
    "import duckdb"
   ]
  },
  {
   "cell_type": "code",
   "execution_count": 19,
   "metadata": {},
   "outputs": [],
   "source": [
    "data = duckdb.sql(\n",
    "    \"\"\"\n",
    "SELECT *\n",
    "FROM 'data/database.parquet'\n",
    "    \"\"\"\n",
    ").pl()"
   ]
  },
  {
   "cell_type": "markdown",
   "metadata": {},
   "source": [
    "# test imputation cylindre + puissance"
   ]
  },
  {
   "cell_type": "markdown",
   "metadata": {},
   "source": [
    "```python\n",
    "from pandas import DataFrame as pandasDataFrame\n",
    "class ImputerCylindrePuissance:\n",
    "    def __init__(self, data: pandasDataFrame, target_features=['cylindre', 'puissance'], categorical_features=['marque', 'modele', 'generation', 'finition', 'annee', 'energie', 'batterie', 'boite']):\n",
    "        self.data = data.copy()\n",
    "        self.target_features = target_features\n",
    "        self.categorical_features = categorical_features\n",
    "        self.missing_rows_index = self.data[self.data[self.target_features].isnull().any(axis=1)].index.to_numpy()\n",
    "\n",
    "    def impute(self):\n",
    "        # Filtrer les lignes avec des valeurs manquantes dans les colonnes cibles\n",
    "\n",
    "        for index, row in self.data[self.data[self.target_features].isnull().any(axis=1)].iterrows():\n",
    "            # Sélection des observations similaires\n",
    "            similar_obs = self.data[\n",
    "                (self.data['marque'] == row['marque']) &\n",
    "                (self.data['modele'] == row['modele']) &\n",
    "                (self.data['annee'] == row['annee']) & \n",
    "                (self.data['energie'] == row['energie']) & \n",
    "                (self.data['boite'] == row['boite']) &\n",
    "                (self.data['generation'] == row['generation']) \n",
    "            ]\n",
    "            similar_obs1 = similar_obs.loc[similar_obs.index != index]\n",
    "            if not similar_obs1.empty:\n",
    "                for feature in self.target_features:\n",
    "                    self.data.at[index, feature] = similar_obs1.iloc[0][feature]\n",
    "    \n",
    "        return self.data\n",
    "imputer = ImputerCylindrePuissance(data.to_pandas())\n",
    "imputed_data = imputer.impute()\n",
    "imputed_data\n",
    "```"
   ]
  }
 ],
 "metadata": {
  "kernelspec": {
   "display_name": "Python 3",
   "language": "python",
   "name": "python3"
  },
  "language_info": {
   "codemirror_mode": {
    "name": "ipython",
    "version": 3
   },
   "file_extension": ".py",
   "mimetype": "text/x-python",
   "name": "python",
   "nbconvert_exporter": "python",
   "pygments_lexer": "ipython3",
   "version": "3.10.7"
  }
 },
 "nbformat": 4,
 "nbformat_minor": 2
}
