{
 "cells": [
  {
   "cell_type": "code",
   "execution_count": 1,
   "metadata": {},
   "outputs": [],
   "source": [
    "from webscraping import import_marques_modeles, fusionner_fichiers_json\n",
    "from datacleaning import *\n",
    "import polars as pl"
   ]
  },
  {
   "cell_type": "code",
   "execution_count": 2,
   "metadata": {},
   "outputs": [],
   "source": [
    "FICHIERS_JSON = [\"data_a_d.json\", \"data_e_l.json\", \"data_m_p.json\", \"data_r_z.json\"]\n",
    "\n",
    "nom_marques_modeles = import_marques_modeles()\n",
    "data_brutes = fusionner_fichiers_json(FICHIERS_JSON)"
   ]
  },
  {
   "cell_type": "code",
   "execution_count": 3,
   "metadata": {},
   "outputs": [],
   "source": [
    "data_brutes = pl.DataFrame(data_brutes)\n",
    "nom_marques_modeles = pl.DataFrame(nom_marques_modeles)"
   ]
  },
  {
   "cell_type": "code",
   "execution_count": 4,
   "metadata": {},
   "outputs": [
    {
     "data": {
      "text/plain": [
       "(308284, 10)"
      ]
     },
     "execution_count": 4,
     "metadata": {},
     "output_type": "execute_result"
    }
   ],
   "source": [
    "data_brutes.shape"
   ]
  },
  {
   "cell_type": "code",
   "execution_count": 6,
   "metadata": {},
   "outputs": [],
   "source": [
    "data = gazoduc(data_brutes, nom_marques_modeles)"
   ]
  },
  {
   "cell_type": "code",
   "execution_count": 7,
   "metadata": {},
   "outputs": [
    {
     "data": {
      "text/plain": [
       "(273081, 16)"
      ]
     },
     "execution_count": 7,
     "metadata": {},
     "output_type": "execute_result"
    }
   ],
   "source": [
    "data.shape"
   ]
  },
  {
   "cell_type": "code",
   "execution_count": 8,
   "metadata": {},
   "outputs": [
    {
     "data": {
      "text/html": [
       "<div><style>\n",
       ".dataframe > thead > tr > th,\n",
       ".dataframe > tbody > tr > td {\n",
       "  text-align: right;\n",
       "  white-space: pre-wrap;\n",
       "}\n",
       "</style>\n",
       "<small>shape: (1, 16)</small><table border=\"1\" class=\"dataframe\"><thead><tr><th>annee</th><th>kilometrage</th><th>boite</th><th>energie</th><th>prix</th><th>position_marché</th><th>garantie</th><th>lien</th><th>marque</th><th>modele</th><th>generation</th><th>cylindre</th><th>moteur</th><th>puissance</th><th>finition</th><th>batterie</th></tr><tr><td>u32</td><td>u32</td><td>u32</td><td>u32</td><td>u32</td><td>u32</td><td>u32</td><td>u32</td><td>u32</td><td>u32</td><td>u32</td><td>u32</td><td>u32</td><td>u32</td><td>u32</td><td>u32</td></tr></thead><tbody><tr><td>0</td><td>0</td><td>0</td><td>0</td><td>0</td><td>0</td><td>0</td><td>0</td><td>0</td><td>0</td><td>0</td><td>15052</td><td>53431</td><td>0</td><td>4668</td><td>258021</td></tr></tbody></table></div>"
      ],
      "text/plain": [
       "shape: (1, 16)\n",
       "┌───────┬─────────────┬───────┬─────────┬───┬────────┬───────────┬──────────┬──────────┐\n",
       "│ annee ┆ kilometrage ┆ boite ┆ energie ┆ … ┆ moteur ┆ puissance ┆ finition ┆ batterie │\n",
       "│ ---   ┆ ---         ┆ ---   ┆ ---     ┆   ┆ ---    ┆ ---       ┆ ---      ┆ ---      │\n",
       "│ u32   ┆ u32         ┆ u32   ┆ u32     ┆   ┆ u32    ┆ u32       ┆ u32      ┆ u32      │\n",
       "╞═══════╪═════════════╪═══════╪═════════╪═══╪════════╪═══════════╪══════════╪══════════╡\n",
       "│ 0     ┆ 0           ┆ 0     ┆ 0       ┆ … ┆ 53431  ┆ 0         ┆ 4668     ┆ 258021   │\n",
       "└───────┴─────────────┴───────┴─────────┴───┴────────┴───────────┴──────────┴──────────┘"
      ]
     },
     "execution_count": 8,
     "metadata": {},
     "output_type": "execute_result"
    }
   ],
   "source": [
    "data.null_count()"
   ]
  },
  {
   "cell_type": "code",
   "execution_count": null,
   "metadata": {},
   "outputs": [],
   "source": [
    "data.write_parquet('data/database.parquet')"
   ]
  },
  {
   "cell_type": "code",
   "execution_count": 6,
   "metadata": {},
   "outputs": [],
   "source": [
    "import duckdb"
   ]
  },
  {
   "cell_type": "code",
   "execution_count": 19,
   "metadata": {},
   "outputs": [],
   "source": [
    "data = duckdb.sql(\n",
    "    \"\"\"\n",
    "SELECT *\n",
    "FROM 'data/database.parquet'\n",
    "    \"\"\"\n",
    ").pl()"
   ]
  },
  {
   "cell_type": "markdown",
   "metadata": {},
   "source": [
    "# test imputation cylindre + puissance"
   ]
  },
  {
   "cell_type": "markdown",
   "metadata": {},
   "source": [
    "```python\n",
    "from pandas import DataFrame as pandasDataFrame\n",
    "class ImputerCylindrePuissance:\n",
    "    def __init__(self, data: pandasDataFrame, target_features=['cylindre', 'puissance'], categorical_features=['marque', 'modele', 'generation', 'finition', 'annee', 'energie', 'batterie', 'boite']):\n",
    "        self.data = data.copy()\n",
    "        self.target_features = target_features\n",
    "        self.categorical_features = categorical_features\n",
    "        self.missing_rows_index = self.data[self.data[self.target_features].isnull().any(axis=1)].index.to_numpy()\n",
    "\n",
    "    def impute(self):\n",
    "        # Filtrer les lignes avec des valeurs manquantes dans les colonnes cibles\n",
    "\n",
    "        for index, row in self.data[self.data[self.target_features].isnull().any(axis=1)].iterrows():\n",
    "            # Sélection des observations similaires\n",
    "            similar_obs = self.data[\n",
    "                (self.data['marque'] == row['marque']) &\n",
    "                (self.data['modele'] == row['modele']) &\n",
    "                (self.data['annee'] == row['annee']) & \n",
    "                (self.data['energie'] == row['energie']) & \n",
    "                (self.data['boite'] == row['boite']) &\n",
    "                (self.data['generation'] == row['generation']) \n",
    "            ]\n",
    "            similar_obs1 = similar_obs.loc[similar_obs.index != index]\n",
    "            if not similar_obs1.empty:\n",
    "                for feature in self.target_features:\n",
    "                    self.data.at[index, feature] = similar_obs1.iloc[0][feature]\n",
    "    \n",
    "        return self.data\n",
    "imputer = ImputerCylindrePuissance(data.to_pandas())\n",
    "imputed_data = imputer.impute()\n",
    "imputed_data\n",
    "```"
   ]
  }
 ],
 "metadata": {
  "kernelspec": {
   "display_name": "Python 3",
   "language": "python",
   "name": "python3"
  },
  "language_info": {
   "codemirror_mode": {
    "name": "ipython",
    "version": 3
   },
   "file_extension": ".py",
   "mimetype": "text/x-python",
   "name": "python",
   "nbconvert_exporter": "python",
   "pygments_lexer": "ipython3",
   "version": "3.10.7"
  }
 },
 "nbformat": 4,
 "nbformat_minor": 2
}
