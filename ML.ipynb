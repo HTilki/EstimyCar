{
 "cells": [
  {
   "cell_type": "code",
   "execution_count": 1,
   "metadata": {},
   "outputs": [],
   "source": [
    "from machinelearning import *\n",
    "import polars as pl\n",
    "import duckdb"
   ]
  },
  {
   "cell_type": "code",
   "execution_count": 2,
   "metadata": {},
   "outputs": [],
   "source": [
    "data = duckdb.sql(\"\"\"\n",
    "                  SELECT * \n",
    "                  FROM 'data/database.parquet'\n",
    "                  \"\"\").pl()"
   ]
  },
  {
   "cell_type": "code",
   "execution_count": 3,
   "metadata": {},
   "outputs": [],
   "source": [
    "# Exemple de listes pour chaque colonne\n",
    "annee = [2006, 2020]\n",
    "kilometrage = [102754, 16900]\n",
    "boite = ['Manuelle', 'Automatique']\n",
    "energie = ['Essence', 'Essence']\n",
    "marque = ['PORSHE', 'PORSCHE']\n",
    "modele = ['BOXSTR', '911']\n",
    "generation = ['II', 'NA']\n",
    "cylindre = ['3.2', '3.0']\n",
    "moteur = ['S', 'CARRERA 4S']\n",
    "puissance = [280, 450]\n",
    "finition = ['TYPE 87', 'TYPE 992 CABRIOLET']\n",
    "batterie = ['null', 'null']\n",
    "\n",
    "# Création d'un pl.DataFrame\n",
    "df = pl.DataFrame({\n",
    "    'annee': annee,\n",
    "    'kilometrage': kilometrage,\n",
    "    'boite': boite,\n",
    "    'energie': energie,\n",
    "    'marque': marque,\n",
    "    'modele': modele,\n",
    "    'generation': generation,\n",
    "    'cylindre': cylindre,\n",
    "    'moteur': moteur,\n",
    "    'puissance': puissance,\n",
    "    'finition': finition,\n",
    "    'batterie': batterie\n",
    "})"
   ]
  },
  {
   "cell_type": "code",
   "execution_count": 4,
   "metadata": {},
   "outputs": [
    {
     "data": {
      "text/html": [
       "<div><style>\n",
       ".dataframe > thead > tr > th,\n",
       ".dataframe > tbody > tr > td {\n",
       "  text-align: right;\n",
       "  white-space: pre-wrap;\n",
       "}\n",
       "</style>\n",
       "<small>shape: (2, 12)</small><table border=\"1\" class=\"dataframe\"><thead><tr><th>annee</th><th>kilometrage</th><th>boite</th><th>energie</th><th>marque</th><th>modele</th><th>generation</th><th>cylindre</th><th>moteur</th><th>puissance</th><th>finition</th><th>batterie</th></tr><tr><td>i64</td><td>i64</td><td>str</td><td>str</td><td>str</td><td>str</td><td>str</td><td>str</td><td>str</td><td>i64</td><td>str</td><td>str</td></tr></thead><tbody><tr><td>2006</td><td>102754</td><td>&quot;Manuelle&quot;</td><td>&quot;Essence&quot;</td><td>&quot;PORSHE&quot;</td><td>&quot;BOXSTR&quot;</td><td>&quot;II&quot;</td><td>&quot;3.2&quot;</td><td>&quot;S&quot;</td><td>280</td><td>&quot;TYPE 87&quot;</td><td>&quot;null&quot;</td></tr><tr><td>2020</td><td>16900</td><td>&quot;Automatique&quot;</td><td>&quot;Essence&quot;</td><td>&quot;PORSCHE&quot;</td><td>&quot;911&quot;</td><td>&quot;NA&quot;</td><td>&quot;3.0&quot;</td><td>&quot;CARRERA 4S&quot;</td><td>450</td><td>&quot;TYPE 992 CABRI…</td><td>&quot;null&quot;</td></tr></tbody></table></div>"
      ],
      "text/plain": [
       "shape: (2, 12)\n",
       "┌───────┬─────────────┬─────────────┬─────────┬───┬────────────┬───────────┬────────────┬──────────┐\n",
       "│ annee ┆ kilometrage ┆ boite       ┆ energie ┆ … ┆ moteur     ┆ puissance ┆ finition   ┆ batterie │\n",
       "│ ---   ┆ ---         ┆ ---         ┆ ---     ┆   ┆ ---        ┆ ---       ┆ ---        ┆ ---      │\n",
       "│ i64   ┆ i64         ┆ str         ┆ str     ┆   ┆ str        ┆ i64       ┆ str        ┆ str      │\n",
       "╞═══════╪═════════════╪═════════════╪═════════╪═══╪════════════╪═══════════╪════════════╪══════════╡\n",
       "│ 2006  ┆ 102754      ┆ Manuelle    ┆ Essence ┆ … ┆ S          ┆ 280       ┆ TYPE 87    ┆ null     │\n",
       "│ 2020  ┆ 16900       ┆ Automatique ┆ Essence ┆ … ┆ CARRERA 4S ┆ 450       ┆ TYPE 992   ┆ null     │\n",
       "│       ┆             ┆             ┆         ┆   ┆            ┆           ┆ CABRIOLET  ┆          │\n",
       "└───────┴─────────────┴─────────────┴─────────┴───┴────────────┴───────────┴────────────┴──────────┘"
      ]
     },
     "execution_count": 4,
     "metadata": {},
     "output_type": "execute_result"
    }
   ],
   "source": [
    "df"
   ]
  },
  {
   "cell_type": "code",
   "execution_count": 6,
   "metadata": {},
   "outputs": [
    {
     "data": {
      "application/vnd.plotly.v1+json": {
       "config": {
        "plotlyServerURL": "https://plot.ly"
       },
       "data": [
        {
         "hovertemplate": "type_km=Kilométrage fictif<br>kilometrage=%{x}<br>Prix estimé=%{y}<extra></extra>",
         "legendgroup": "Kilométrage fictif",
         "line": {
          "color": "#636efa",
          "dash": "solid"
         },
         "marker": {
          "symbol": "circle"
         },
         "mode": "markers+lines",
         "name": "Kilométrage fictif",
         "orientation": "v",
         "showlegend": true,
         "type": "scatter",
         "x": [
          0,
          10000,
          20000,
          30000,
          40000,
          50000,
          60000,
          70000,
          80000,
          90000,
          100000,
          110000,
          120000,
          130000,
          140000,
          150000,
          160000,
          170000,
          180000,
          190000,
          200000,
          210000,
          220000,
          230000,
          240000,
          250000,
          260000,
          270000,
          280000,
          290000,
          300000
         ],
         "xaxis": "x",
         "y": [
          193845.14,
          181773.21,
          208129.61,
          192626.74,
          194959.99,
          185931.72,
          163349.61,
          140336.63,
          141538.41,
          141482.31,
          141431.09,
          77309.87,
          67762.96,
          65983.75,
          65973.56,
          58445.38,
          56793.04,
          58838.17,
          58515.29,
          55491.66,
          55478.6,
          55466.06,
          55454.4,
          55443.93,
          55434.82,
          55427.13,
          55420.85,
          55415.89,
          45337.19,
          34402.05,
          34156.57
         ],
         "yaxis": "y"
        },
        {
         "hovertemplate": "type_km=Kilométrage aujourd'hui<br>kilometrage=%{x}<br>Prix estimé=%{y}<extra></extra>",
         "legendgroup": "Kilométrage aujourd'hui",
         "line": {
          "color": "#EF553B",
          "dash": "solid"
         },
         "marker": {
          "symbol": "circle"
         },
         "mode": "markers+lines",
         "name": "Kilométrage aujourd'hui",
         "orientation": "v",
         "showlegend": true,
         "type": "scatter",
         "x": [
          16900
         ],
         "xaxis": "x",
         "y": [
          191100.89
         ],
         "yaxis": "y"
        }
       ],
       "layout": {
        "legend": {
         "title": {},
         "tracegroupgap": 0
        },
        "template": {
         "data": {
          "bar": [
           {
            "error_x": {
             "color": "#2a3f5f"
            },
            "error_y": {
             "color": "#2a3f5f"
            },
            "marker": {
             "line": {
              "color": "#E5ECF6",
              "width": 0.5
             },
             "pattern": {
              "fillmode": "overlay",
              "size": 10,
              "solidity": 0.2
             }
            },
            "type": "bar"
           }
          ],
          "barpolar": [
           {
            "marker": {
             "line": {
              "color": "#E5ECF6",
              "width": 0.5
             },
             "pattern": {
              "fillmode": "overlay",
              "size": 10,
              "solidity": 0.2
             }
            },
            "type": "barpolar"
           }
          ],
          "carpet": [
           {
            "aaxis": {
             "endlinecolor": "#2a3f5f",
             "gridcolor": "white",
             "linecolor": "white",
             "minorgridcolor": "white",
             "startlinecolor": "#2a3f5f"
            },
            "baxis": {
             "endlinecolor": "#2a3f5f",
             "gridcolor": "white",
             "linecolor": "white",
             "minorgridcolor": "white",
             "startlinecolor": "#2a3f5f"
            },
            "type": "carpet"
           }
          ],
          "choropleth": [
           {
            "colorbar": {
             "outlinewidth": 0,
             "ticks": ""
            },
            "type": "choropleth"
           }
          ],
          "contour": [
           {
            "colorbar": {
             "outlinewidth": 0,
             "ticks": ""
            },
            "colorscale": [
             [
              0,
              "#0d0887"
             ],
             [
              0.1111111111111111,
              "#46039f"
             ],
             [
              0.2222222222222222,
              "#7201a8"
             ],
             [
              0.3333333333333333,
              "#9c179e"
             ],
             [
              0.4444444444444444,
              "#bd3786"
             ],
             [
              0.5555555555555556,
              "#d8576b"
             ],
             [
              0.6666666666666666,
              "#ed7953"
             ],
             [
              0.7777777777777778,
              "#fb9f3a"
             ],
             [
              0.8888888888888888,
              "#fdca26"
             ],
             [
              1,
              "#f0f921"
             ]
            ],
            "type": "contour"
           }
          ],
          "contourcarpet": [
           {
            "colorbar": {
             "outlinewidth": 0,
             "ticks": ""
            },
            "type": "contourcarpet"
           }
          ],
          "heatmap": [
           {
            "colorbar": {
             "outlinewidth": 0,
             "ticks": ""
            },
            "colorscale": [
             [
              0,
              "#0d0887"
             ],
             [
              0.1111111111111111,
              "#46039f"
             ],
             [
              0.2222222222222222,
              "#7201a8"
             ],
             [
              0.3333333333333333,
              "#9c179e"
             ],
             [
              0.4444444444444444,
              "#bd3786"
             ],
             [
              0.5555555555555556,
              "#d8576b"
             ],
             [
              0.6666666666666666,
              "#ed7953"
             ],
             [
              0.7777777777777778,
              "#fb9f3a"
             ],
             [
              0.8888888888888888,
              "#fdca26"
             ],
             [
              1,
              "#f0f921"
             ]
            ],
            "type": "heatmap"
           }
          ],
          "heatmapgl": [
           {
            "colorbar": {
             "outlinewidth": 0,
             "ticks": ""
            },
            "colorscale": [
             [
              0,
              "#0d0887"
             ],
             [
              0.1111111111111111,
              "#46039f"
             ],
             [
              0.2222222222222222,
              "#7201a8"
             ],
             [
              0.3333333333333333,
              "#9c179e"
             ],
             [
              0.4444444444444444,
              "#bd3786"
             ],
             [
              0.5555555555555556,
              "#d8576b"
             ],
             [
              0.6666666666666666,
              "#ed7953"
             ],
             [
              0.7777777777777778,
              "#fb9f3a"
             ],
             [
              0.8888888888888888,
              "#fdca26"
             ],
             [
              1,
              "#f0f921"
             ]
            ],
            "type": "heatmapgl"
           }
          ],
          "histogram": [
           {
            "marker": {
             "pattern": {
              "fillmode": "overlay",
              "size": 10,
              "solidity": 0.2
             }
            },
            "type": "histogram"
           }
          ],
          "histogram2d": [
           {
            "colorbar": {
             "outlinewidth": 0,
             "ticks": ""
            },
            "colorscale": [
             [
              0,
              "#0d0887"
             ],
             [
              0.1111111111111111,
              "#46039f"
             ],
             [
              0.2222222222222222,
              "#7201a8"
             ],
             [
              0.3333333333333333,
              "#9c179e"
             ],
             [
              0.4444444444444444,
              "#bd3786"
             ],
             [
              0.5555555555555556,
              "#d8576b"
             ],
             [
              0.6666666666666666,
              "#ed7953"
             ],
             [
              0.7777777777777778,
              "#fb9f3a"
             ],
             [
              0.8888888888888888,
              "#fdca26"
             ],
             [
              1,
              "#f0f921"
             ]
            ],
            "type": "histogram2d"
           }
          ],
          "histogram2dcontour": [
           {
            "colorbar": {
             "outlinewidth": 0,
             "ticks": ""
            },
            "colorscale": [
             [
              0,
              "#0d0887"
             ],
             [
              0.1111111111111111,
              "#46039f"
             ],
             [
              0.2222222222222222,
              "#7201a8"
             ],
             [
              0.3333333333333333,
              "#9c179e"
             ],
             [
              0.4444444444444444,
              "#bd3786"
             ],
             [
              0.5555555555555556,
              "#d8576b"
             ],
             [
              0.6666666666666666,
              "#ed7953"
             ],
             [
              0.7777777777777778,
              "#fb9f3a"
             ],
             [
              0.8888888888888888,
              "#fdca26"
             ],
             [
              1,
              "#f0f921"
             ]
            ],
            "type": "histogram2dcontour"
           }
          ],
          "mesh3d": [
           {
            "colorbar": {
             "outlinewidth": 0,
             "ticks": ""
            },
            "type": "mesh3d"
           }
          ],
          "parcoords": [
           {
            "line": {
             "colorbar": {
              "outlinewidth": 0,
              "ticks": ""
             }
            },
            "type": "parcoords"
           }
          ],
          "pie": [
           {
            "automargin": true,
            "type": "pie"
           }
          ],
          "scatter": [
           {
            "fillpattern": {
             "fillmode": "overlay",
             "size": 10,
             "solidity": 0.2
            },
            "type": "scatter"
           }
          ],
          "scatter3d": [
           {
            "line": {
             "colorbar": {
              "outlinewidth": 0,
              "ticks": ""
             }
            },
            "marker": {
             "colorbar": {
              "outlinewidth": 0,
              "ticks": ""
             }
            },
            "type": "scatter3d"
           }
          ],
          "scattercarpet": [
           {
            "marker": {
             "colorbar": {
              "outlinewidth": 0,
              "ticks": ""
             }
            },
            "type": "scattercarpet"
           }
          ],
          "scattergeo": [
           {
            "marker": {
             "colorbar": {
              "outlinewidth": 0,
              "ticks": ""
             }
            },
            "type": "scattergeo"
           }
          ],
          "scattergl": [
           {
            "marker": {
             "colorbar": {
              "outlinewidth": 0,
              "ticks": ""
             }
            },
            "type": "scattergl"
           }
          ],
          "scattermapbox": [
           {
            "marker": {
             "colorbar": {
              "outlinewidth": 0,
              "ticks": ""
             }
            },
            "type": "scattermapbox"
           }
          ],
          "scatterpolar": [
           {
            "marker": {
             "colorbar": {
              "outlinewidth": 0,
              "ticks": ""
             }
            },
            "type": "scatterpolar"
           }
          ],
          "scatterpolargl": [
           {
            "marker": {
             "colorbar": {
              "outlinewidth": 0,
              "ticks": ""
             }
            },
            "type": "scatterpolargl"
           }
          ],
          "scatterternary": [
           {
            "marker": {
             "colorbar": {
              "outlinewidth": 0,
              "ticks": ""
             }
            },
            "type": "scatterternary"
           }
          ],
          "surface": [
           {
            "colorbar": {
             "outlinewidth": 0,
             "ticks": ""
            },
            "colorscale": [
             [
              0,
              "#0d0887"
             ],
             [
              0.1111111111111111,
              "#46039f"
             ],
             [
              0.2222222222222222,
              "#7201a8"
             ],
             [
              0.3333333333333333,
              "#9c179e"
             ],
             [
              0.4444444444444444,
              "#bd3786"
             ],
             [
              0.5555555555555556,
              "#d8576b"
             ],
             [
              0.6666666666666666,
              "#ed7953"
             ],
             [
              0.7777777777777778,
              "#fb9f3a"
             ],
             [
              0.8888888888888888,
              "#fdca26"
             ],
             [
              1,
              "#f0f921"
             ]
            ],
            "type": "surface"
           }
          ],
          "table": [
           {
            "cells": {
             "fill": {
              "color": "#EBF0F8"
             },
             "line": {
              "color": "white"
             }
            },
            "header": {
             "fill": {
              "color": "#C8D4E3"
             },
             "line": {
              "color": "white"
             }
            },
            "type": "table"
           }
          ]
         },
         "layout": {
          "annotationdefaults": {
           "arrowcolor": "#2a3f5f",
           "arrowhead": 0,
           "arrowwidth": 1
          },
          "autotypenumbers": "strict",
          "coloraxis": {
           "colorbar": {
            "outlinewidth": 0,
            "ticks": ""
           }
          },
          "colorscale": {
           "diverging": [
            [
             0,
             "#8e0152"
            ],
            [
             0.1,
             "#c51b7d"
            ],
            [
             0.2,
             "#de77ae"
            ],
            [
             0.3,
             "#f1b6da"
            ],
            [
             0.4,
             "#fde0ef"
            ],
            [
             0.5,
             "#f7f7f7"
            ],
            [
             0.6,
             "#e6f5d0"
            ],
            [
             0.7,
             "#b8e186"
            ],
            [
             0.8,
             "#7fbc41"
            ],
            [
             0.9,
             "#4d9221"
            ],
            [
             1,
             "#276419"
            ]
           ],
           "sequential": [
            [
             0,
             "#0d0887"
            ],
            [
             0.1111111111111111,
             "#46039f"
            ],
            [
             0.2222222222222222,
             "#7201a8"
            ],
            [
             0.3333333333333333,
             "#9c179e"
            ],
            [
             0.4444444444444444,
             "#bd3786"
            ],
            [
             0.5555555555555556,
             "#d8576b"
            ],
            [
             0.6666666666666666,
             "#ed7953"
            ],
            [
             0.7777777777777778,
             "#fb9f3a"
            ],
            [
             0.8888888888888888,
             "#fdca26"
            ],
            [
             1,
             "#f0f921"
            ]
           ],
           "sequentialminus": [
            [
             0,
             "#0d0887"
            ],
            [
             0.1111111111111111,
             "#46039f"
            ],
            [
             0.2222222222222222,
             "#7201a8"
            ],
            [
             0.3333333333333333,
             "#9c179e"
            ],
            [
             0.4444444444444444,
             "#bd3786"
            ],
            [
             0.5555555555555556,
             "#d8576b"
            ],
            [
             0.6666666666666666,
             "#ed7953"
            ],
            [
             0.7777777777777778,
             "#fb9f3a"
            ],
            [
             0.8888888888888888,
             "#fdca26"
            ],
            [
             1,
             "#f0f921"
            ]
           ]
          },
          "colorway": [
           "#636efa",
           "#EF553B",
           "#00cc96",
           "#ab63fa",
           "#FFA15A",
           "#19d3f3",
           "#FF6692",
           "#B6E880",
           "#FF97FF",
           "#FECB52"
          ],
          "font": {
           "color": "#2a3f5f"
          },
          "geo": {
           "bgcolor": "white",
           "lakecolor": "white",
           "landcolor": "#E5ECF6",
           "showlakes": true,
           "showland": true,
           "subunitcolor": "white"
          },
          "hoverlabel": {
           "align": "left"
          },
          "hovermode": "closest",
          "mapbox": {
           "style": "light"
          },
          "paper_bgcolor": "white",
          "plot_bgcolor": "#E5ECF6",
          "polar": {
           "angularaxis": {
            "gridcolor": "white",
            "linecolor": "white",
            "ticks": ""
           },
           "bgcolor": "#E5ECF6",
           "radialaxis": {
            "gridcolor": "white",
            "linecolor": "white",
            "ticks": ""
           }
          },
          "scene": {
           "xaxis": {
            "backgroundcolor": "#E5ECF6",
            "gridcolor": "white",
            "gridwidth": 2,
            "linecolor": "white",
            "showbackground": true,
            "ticks": "",
            "zerolinecolor": "white"
           },
           "yaxis": {
            "backgroundcolor": "#E5ECF6",
            "gridcolor": "white",
            "gridwidth": 2,
            "linecolor": "white",
            "showbackground": true,
            "ticks": "",
            "zerolinecolor": "white"
           },
           "zaxis": {
            "backgroundcolor": "#E5ECF6",
            "gridcolor": "white",
            "gridwidth": 2,
            "linecolor": "white",
            "showbackground": true,
            "ticks": "",
            "zerolinecolor": "white"
           }
          },
          "shapedefaults": {
           "line": {
            "color": "#2a3f5f"
           }
          },
          "ternary": {
           "aaxis": {
            "gridcolor": "white",
            "linecolor": "white",
            "ticks": ""
           },
           "baxis": {
            "gridcolor": "white",
            "linecolor": "white",
            "ticks": ""
           },
           "bgcolor": "#E5ECF6",
           "caxis": {
            "gridcolor": "white",
            "linecolor": "white",
            "ticks": ""
           }
          },
          "title": {
           "x": 0.05
          },
          "xaxis": {
           "automargin": true,
           "gridcolor": "white",
           "linecolor": "white",
           "ticks": "",
           "title": {
            "standoff": 15
           },
           "zerolinecolor": "white",
           "zerolinewidth": 2
          },
          "yaxis": {
           "automargin": true,
           "gridcolor": "white",
           "linecolor": "white",
           "ticks": "",
           "title": {
            "standoff": 15
           },
           "zerolinecolor": "white",
           "zerolinewidth": 2
          }
         }
        },
        "title": {
         "text": "Prix estimé en fonction du kilométrage du véhicule"
        },
        "xaxis": {
         "anchor": "y",
         "domain": [
          0,
          1
         ],
         "tickformat": "d",
         "title": {
          "text": "kilometrage"
         }
        },
        "yaxis": {
         "anchor": "x",
         "domain": [
          0,
          1
         ],
         "tickformat": "d",
         "title": {
          "text": "Prix estimé"
         }
        }
       }
      }
     },
     "metadata": {},
     "output_type": "display_data"
    }
   ],
   "source": [
    "predict_prix_autre_km(df[1], df[1]['marque'].to_list().pop())"
   ]
  },
  {
   "cell_type": "code",
   "execution_count": 8,
   "metadata": {},
   "outputs": [
    {
     "data": {
      "text/html": [
       "<div><style>\n",
       ".dataframe > thead > tr > th,\n",
       ".dataframe > tbody > tr > td {\n",
       "  text-align: right;\n",
       "  white-space: pre-wrap;\n",
       "}\n",
       "</style>\n",
       "<small>shape: (40, 2)</small><table border=\"1\" class=\"dataframe\"><thead><tr><th>nb_annonces</th><th>marque</th></tr><tr><td>i64</td><td>str</td></tr></thead><tbody><tr><td>39954</td><td>&quot;PEUGEOT&quot;</td></tr><tr><td>37508</td><td>&quot;RENAULT&quot;</td></tr><tr><td>25725</td><td>&quot;CITROEN&quot;</td></tr><tr><td>20125</td><td>&quot;VOLKSWAGEN&quot;</td></tr><tr><td>17522</td><td>&quot;MERCEDES&quot;</td></tr><tr><td>15279</td><td>&quot;BMW&quot;</td></tr><tr><td>14746</td><td>&quot;AUDI&quot;</td></tr><tr><td>10006</td><td>&quot;FORD&quot;</td></tr><tr><td>8594</td><td>&quot;TOYOTA&quot;</td></tr><tr><td>8383</td><td>&quot;OPEL&quot;</td></tr><tr><td>7444</td><td>&quot;FIAT&quot;</td></tr><tr><td>6392</td><td>&quot;MINI&quot;</td></tr><tr><td>&hellip;</td><td>&hellip;</td></tr><tr><td>1048</td><td>&quot;CUPRA&quot;</td></tr><tr><td>780</td><td>&quot;MITSUBISHI&quot;</td></tr><tr><td>777</td><td>&quot;HONDA&quot;</td></tr><tr><td>552</td><td>&quot;TESLA&quot;</td></tr><tr><td>416</td><td>&quot;SMART&quot;</td></tr><tr><td>410</td><td>&quot;MASERATI&quot;</td></tr><tr><td>358</td><td>&quot;ABARTH&quot;</td></tr><tr><td>349</td><td>&quot;FERRARI&quot;</td></tr><tr><td>337</td><td>&quot;MG&quot;</td></tr><tr><td>317</td><td>&quot;CHEVROLET&quot;</td></tr><tr><td>214</td><td>&quot;IVECO&quot;</td></tr><tr><td>184</td><td>&quot;ALPINE&quot;</td></tr></tbody></table></div>"
      ],
      "text/plain": [
       "shape: (40, 2)\n",
       "┌─────────────┬────────────┐\n",
       "│ nb_annonces ┆ marque     │\n",
       "│ ---         ┆ ---        │\n",
       "│ i64         ┆ str        │\n",
       "╞═════════════╪════════════╡\n",
       "│ 39954       ┆ PEUGEOT    │\n",
       "│ 37508       ┆ RENAULT    │\n",
       "│ 25725       ┆ CITROEN    │\n",
       "│ 20125       ┆ VOLKSWAGEN │\n",
       "│ …           ┆ …          │\n",
       "│ 337         ┆ MG         │\n",
       "│ 317         ┆ CHEVROLET  │\n",
       "│ 214         ┆ IVECO      │\n",
       "│ 184         ┆ ALPINE     │\n",
       "└─────────────┴────────────┘"
      ]
     },
     "execution_count": 8,
     "metadata": {},
     "output_type": "execute_result"
    }
   ],
   "source": [
    "top = duckdb.sql(\n",
    "    \"\"\"\n",
    "    SELECT COUNT(*) as nb_annonces,\n",
    "    marque\n",
    "    FROM 'data/database.parquet'\n",
    "    GROUP BY marque\n",
    "    ORDER BY nb_annonces DESC\n",
    "    \"\"\").pl().head(40)\n",
    "top"
   ]
  }
 ],
 "metadata": {
  "kernelspec": {
   "display_name": "Python 3",
   "language": "python",
   "name": "python3"
  },
  "language_info": {
   "codemirror_mode": {
    "name": "ipython",
    "version": 3
   },
   "file_extension": ".py",
   "mimetype": "text/x-python",
   "name": "python",
   "nbconvert_exporter": "python",
   "pygments_lexer": "ipython3",
   "version": "3.10.7"
  }
 },
 "nbformat": 4,
 "nbformat_minor": 2
}
